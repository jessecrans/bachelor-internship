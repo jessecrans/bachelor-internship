{
 "cells": [
  {
   "cell_type": "code",
   "execution_count": 5,
   "metadata": {},
   "outputs": [],
   "source": [
    "from astropy.io import fits\n",
    "from search_data import search_candidates\n",
    "import scipy"
   ]
  },
  {
   "cell_type": "code",
   "execution_count": 6,
   "metadata": {},
   "outputs": [],
   "source": [
    "event_file = 'acisf08490N004_evt2.fits'\n",
    "src_file = 's3_expmap_src.fits'"
   ]
  },
  {
   "cell_type": "code",
   "execution_count": 9,
   "metadata": {},
   "outputs": [
    {
     "name": "stdout",
     "output_type": "stream",
     "text": [
      "Time: 97.17359215003252 s\n",
      "Window: 20 s\n",
      "Number of regions: 4\n",
      "Residual: 17.17359215003252 s\n",
      "\n",
      "... PASS\n",
      "\ti: index, t_1: t_1 ((t_1 - t_start) / 1000), t_2: t_2 ((t_2 - t_start) / 1000\n",
      "\n",
      "FORWARD PASS\n",
      "\ti: 0, t_1: 296877766.93042 (0.0), t_2: 296897766.93042 (20.0)\n",
      "\ti: 1, t_1: 296897766.93042 (20.0), t_2: 296917766.93042 (40.0)\n",
      "\ti: 2, t_1: 296917766.93042 (40.0), t_2: 296937766.93042 (60.0)\n",
      "\ti: 3, t_1: 296937766.93042 (60.0), t_2: 296957766.93042 (80.0)\n",
      "\ti: 3, t_1: 296957766.93042 (80.0), t_2: 296974940.52257 (97.17359215003252)\n",
      "BACKWARD PASS\n",
      "\ti: 0, t_1: 0 (-296877.76693042), t_2: 17173.59215003252 (-296860.59333827)\n",
      "\ti: 1, t_1: 17173.59215003252 (-296860.59333827), t_2: 37173.59215003252 (-296840.59333827)\n",
      "\ti: 2, t_1: 37173.59215003252 (-296840.59333827), t_2: 57173.59215003252 (-296820.59333827)\n",
      "\ti: 3, t_1: 57173.59215003252 (-296820.59333827), t_2: 77173.59215003252 (-296800.59333827)\n",
      "\ti: 4, t_1: 77173.59215003252 (-296800.59333827), t_2: 97173.59215003252 (-296780.59333827)\n",
      "SHIFTED PASS\n",
      "\ti: 0, t_1: 10000.0 (-296867.76693042), t_2: 30000.0 (-296847.76693042)\n",
      "\ti: 1, t_1: 30000.0 (-296847.76693042), t_2: 50000.0 (-296827.76693042)\n",
      "\ti: 2, t_1: 50000.0 (-296827.76693042), t_2: 70000.0 (-296807.76693042)\n",
      "\ti: 3, t_1: 70000.0 (-296807.76693042), t_2: 90000.0 (-296787.76693042)\n",
      "\ti: 4, t_1: 87173.59215003252 (-296790.59333827), t_2: 107173.59215003252 (-296770.59333827)\n"
     ]
    }
   ],
   "source": [
    "# remake of window calculation\n",
    "with fits.open(event_file) as hdul:\n",
    "    information = hdul[1].header\n",
    "    obs = information['OBS_ID']\n",
    "    t_start = information['TSTART']\n",
    "    t_stop = information['TSTOP']\n",
    "\n",
    "time = t_stop - t_start\n",
    "window = 20\n",
    "\n",
    "def print_start_end_times(time, t_start, t_end, window):\n",
    "    time /= 1000\n",
    "    N_regions = int(time // window)\n",
    "    residual = time - N_regions * window\n",
    "    array = []\n",
    "\n",
    "    print(f\"Time: {time} s\")\n",
    "    print(f\"Window: {window} s\")\n",
    "    print(f\"Number of regions: {N_regions}\")\n",
    "    print(f\"Residual: {residual} s\")\n",
    "\n",
    "    print()\n",
    "    print(f\"... PASS\")\n",
    "    print(f\"\\ti: index, t_1: t_1 ((t_1 - t_start) / 1000), t_2: t_2 ((t_2 - t_start) / 1000\")\n",
    "    print()\n",
    "\n",
    "    # forward pass\n",
    "    print(\"FORWARD PASS\")\n",
    "    for i in range(N_regions):\n",
    "        t_1, t_2 = window * 1000 * i + t_start, window * 1000 * (i + 1) + t_start\n",
    "        print(f\"\\ti: {i}, t_1: {t_1} ({(t_1 - t_start) / 1000}), t_2: {t_2} ({(t_2 - t_start) / 1000})\")\n",
    "        array.append(t_2 - t_1)\n",
    "    \n",
    "    t_1, t_2 = window * 1000 * (i + 1) + t_start, window * 1000 * (i + 1) + t_start + residual * 1000\n",
    "    print(\n",
    "        f\"\\ti: {i}, t_1: {t_1} ({(t_1 - t_start) / 1000}), t_2: {t_2} ({(t_2 - t_start) / 1000})\")\n",
    "    array.append(t_2 - t_1)\n",
    "\n",
    "    # backward pass\n",
    "    print(\"BACKWARD PASS\")\n",
    "    for i in range(len(array)):\n",
    "        if i == 0:\n",
    "            t_1, t_2 = 0, array[-1]\n",
    "            print(\n",
    "                f\"\\ti: {i}, t_1: {t_1} ({(t_1 - t_start) / 1000}), t_2: {t_2} ({(t_2 - t_start) / 1000})\")\n",
    "        else:\n",
    "            t_1, t_2 = array[-1] + window * (i - 1) * 1000, array[-1] + window * i * 1000\n",
    "            print(\n",
    "                f\"\\ti: {i}, t_1: {t_1} ({(t_1 - t_start) / 1000}), t_2: {t_2} ({(t_2 - t_start) / 1000})\")\n",
    "        \n",
    "    # shift\n",
    "    print(\"SHIFTED PASS\")\n",
    "    a = 0.0\n",
    "    for i in range(len(array)):\n",
    "        a += array[i]\n",
    "        t_1, t_2 = a - window/2 * 1000, a + window/2 * 1000\n",
    "        print(f\"\\ti: {i}, t_1: {t_1} ({(t_1 - t_start) / 1000}), t_2: {t_2} ({(t_2 - t_start) / 1000})\")\n",
    "\n",
    "print_start_end_times(time, t_start, t_stop, window)"
   ]
  },
  {
   "cell_type": "code",
   "execution_count": 8,
   "metadata": {},
   "outputs": [
    {
     "name": "stdout",
     "output_type": "stream",
     "text": [
      "8490\n",
      "acisf08490N004_evt2.fits\n",
      "0.0 20000.0 17.17359215003252 4\n",
      "20000.0 40000.0 17.17359215003252 4\n",
      "40000.0 60000.0 17.17359215003252 4\n",
      "60000.0 80000.0 17.17359215003252 4\n",
      "80000.0 97173.59215003252 17.17359215003252 4\n",
      "[20000.0, 20000.0, 20000.0, 20000.0, 17173.59215003252]\n",
      "0 17173.59215003252 17.17359215003252 4\n",
      "no events\n",
      "17173.59215003252 37173.59215003252 17.17359215003252 4\n",
      "no events\n",
      "37173.59215003252 57173.59215003252 17.17359215003252 4\n",
      "no events\n",
      "57173.59215003252 77173.59215003252 17.17359215003252 4\n",
      "no events\n",
      "77173.59215003252 97173.59215003252 17.17359215003252 4\n",
      "no events\n",
      "10000.0 30000.0\n",
      "no events\n",
      "30000.0 50000.0\n",
      "no events\n",
      "50000.0 70000.0\n",
      "no events\n",
      "70000.0 90000.0\n",
      "no events\n",
      "87173.59215003252 107173.59215003252\n",
      "no events\n",
      "8490\n"
     ]
    },
    {
     "name": "stderr",
     "output_type": "stream",
     "text": [
      "c:\\Users\\jesse\\Desktop\\Stage\\code\\Code CXO\\search_data.py:360: FutureWarning: unique with argument that is not not a Series, Index, ExtensionArray, or np.ndarray is deprecated and will raise in a future version.\n",
      "  myFinalList = pd.unique(candidates).tolist()\n"
     ]
    }
   ],
   "source": [
    "search_candidates(src_file, event_file)"
   ]
  }
 ],
 "metadata": {
  "kernelspec": {
   "display_name": "astro",
   "language": "python",
   "name": "python3"
  },
  "language_info": {
   "codemirror_mode": {
    "name": "ipython",
    "version": 3
   },
   "file_extension": ".py",
   "mimetype": "text/x-python",
   "name": "python",
   "nbconvert_exporter": "python",
   "pygments_lexer": "ipython3",
   "version": "3.11.9"
  }
 },
 "nbformat": 4,
 "nbformat_minor": 2
}
