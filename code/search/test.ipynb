{
 "cells": [
  {
   "cell_type": "code",
   "execution_count": 14,
   "metadata": {},
   "outputs": [],
   "source": [
    "import pandas as pd\n",
    "from auxiliary.filter_functions import filter_chandra, filter_archival, filter_gaia, filter_ned, filter_simbad, filter_erosita, filter_vizier\n",
    "from auxiliary.search_algorithm import get_wcs_event, off_axis, get_chandra_eef, get_counts_from_event\n",
    "from astroquery.vizier import Vizier\n",
    "from astroquery.simbad import Simbad, SimbadClass\n",
    "import os\n",
    "import glob\n",
    "from astropy.table import Table\n",
    "import numpy as np\n",
    "from astropy.io import fits\n",
    "import time\n",
    "import matplotlib.pyplot as plt\n",
    "\n",
    "# 2372400"
   ]
  },
  {
   "cell_type": "code",
   "execution_count": 19,
   "metadata": {},
   "outputs": [
    {
     "name": "stdout",
     "output_type": "stream",
     "text": [
      "t2-t1: 0.00\n",
      "t3-t2: 0.22\n",
      "t4-t3: 0.02\n"
     ]
    }
   ],
   "source": [
    "def gen_light_curve(obsid: int, fxt_ra: float, fxt_dec: float, fxt_theta: float, fxt_pos_err: float) -> pd.DataFrame:\n",
    "    t1 = time.perf_counter()\n",
    "\n",
    "    # get files\n",
    "    try:\n",
    "        files = glob.glob(\n",
    "            f'/data/jcrans/fxrt-data/obsids/{obsid}/s3_expmap_src.fits', recursive=True)\n",
    "        src_file = files[0]\n",
    "        files = glob.glob(\n",
    "            f'/data/jcrans/fxrt-data/obsids/{obsid}/*evt2.fits', recursive=True)\n",
    "        event_file = files[0]\n",
    "    except IndexError:\n",
    "        print(f'No files found for {obsid}')\n",
    "        return pd.DataFrame()\n",
    "    \n",
    "    t2 = time.perf_counter()\n",
    "\n",
    "    # Read the event file\n",
    "    event_data_raw = Table.read(event_file, hdu=1)\n",
    "\n",
    "    # Read the wcs of the event file\n",
    "    event_wcs = get_wcs_event(event_file)\n",
    "    \n",
    "    # convert ra, dec to x, y\n",
    "    fxt_x, fxt_y = event_wcs.all_world2pix(fxt_ra, fxt_dec, 1)\n",
    "    \n",
    "    # Get R90 size\n",
    "    r90_size = get_chandra_eef(np.array([fxt_theta]), R0=1.07, R10=9.65, alpha=2.22)[0]\n",
    "\n",
    "    # Convert to pixel scale\n",
    "    acis_pix_size = 0.492\n",
    "    r90_size /= acis_pix_size\n",
    "\n",
    "    # Get the aperture size\n",
    "    aperture_radii = r90_size * 1.5\n",
    "\n",
    "    event_data = event_data_raw[np.where(\n",
    "        (event_data_raw['energy'] >= 5e2) &\n",
    "        (event_data_raw['energy'] <= 7e3)\n",
    "    )]\n",
    "\n",
    "    t3 = time.perf_counter()\n",
    "\n",
    "    time_bins = np.arange(event_data_raw['time'].min(), event_data_raw['time'].max(), 1000)\n",
    "    light_curve = np.zeros(len(time_bins)-1)\n",
    "\n",
    "    for i in range(len(time_bins)-1):\n",
    "        event_data_bin = event_data[np.where(\n",
    "            (event_data['time'] >= time_bins[i]) &\n",
    "            (event_data['time'] < time_bins[i+1])\n",
    "        )]\n",
    "\n",
    "        total_counts, background_counts = get_counts_from_event(\n",
    "            event_data_bin, fxt_x, fxt_y, aperture_radii, aperture_radii+22)\n",
    "        \n",
    "        # print('counts', total_counts, background_counts)\n",
    "\n",
    "        light_curve[i] = total_counts - background_counts\n",
    "\n",
    "    t4 = time.perf_counter()\n",
    "\n",
    "    print(f't2-t1: {t2-t1:.2f}')\n",
    "    print(f't3-t2: {t3-t2:.2f}')\n",
    "    print(f't4-t3: {t4-t3:.2f}')\n",
    "\n",
    "    return pd.DataFrame({\n",
    "        'time': time_bins[:-1],\n",
    "        'counts': light_curve\n",
    "    })\n",
    "\n",
    "\n",
    "lc_df = gen_light_curve(803, 186.3815785116022, 13.066452477077808, 13.285, 0.230628978992878)"
   ]
  },
  {
   "cell_type": "code",
   "execution_count": 20,
   "metadata": {},
   "outputs": [
    {
     "data": {
      "image/png": "[encoded data removed]",
      "text/plain": [
       "<Figure size 640x480 with 1 Axes>"
      ]
     },
     "metadata": {},
     "output_type": "display_data"
    }
   ],
   "source": [
    "plt.scatter(lc_df['time'], lc_df['counts'])\n",
    "plt.show()"
   ]
  },
  {
   "cell_type": "code",
   "execution_count": 9,
   "metadata": {},
   "outputs": [
    {
     "name": "stdout",
     "output_type": "stream",
     "text": [
      "            MAIN_ID             RA            DEC    OTYPE    OTYPES\n",
      "0  UCAC4 105-012588  05 29 02.8601  -69 04 29.953  EmLine*  Em*|PN|*\n"
     ]
    },
    {
     "data": {
      "text/plain": [
       "True"
      ]
     },
     "execution_count": 9,
     "metadata": {},
     "output_type": "execute_result"
    }
   ],
   "source": [
    "detections = pd.read_csv('output/detections_w20.txt',\n",
    "                         header=0, sep=' ', dtype=str)\n",
    "\n",
    "detection = detections[detections['ObsId'] == '8490'].iloc[0]\n",
    "\n",
    "filter_simbad(detection, True)"
   ]
  },
  {
   "cell_type": "code",
   "execution_count": 26,
   "metadata": {},
   "outputs": [
    {
     "name": "stdout",
     "output_type": "stream",
     "text": [
      "after total: 1495\n",
      "before total: 8304\n",
      "after detec: 101\n",
      "before detec: 1721\n",
      "after no match: 30\n",
      "before no match: 332\n"
     ]
    }
   ],
   "source": [
    "filterd = pd.read_csv('output/filtered_w20.csv', header=0, dtype=str)\n",
    "obsids_after1 = pd.read_csv('obsid_lists/obsids_b+10_220401+.csv', header=0, dtype=str, sep=',', usecols=[1])\n",
    "obsids_after2 =  pd.read_csv('obsid_lists/obsids_b-10_220401+.csv', header=0, dtype=str, sep=',', usecols=[1])\n",
    "obsids_after = pd.concat([obsids_after1, obsids_after2], ignore_index=True)\n",
    "print(f'after total: {len(obsids_after)}')\n",
    "\n",
    "obsids_before1 = pd.read_csv('obsid_lists/obsids_b+10_220401-.csv', header=0, dtype=str, sep=',', usecols=[1])\t\n",
    "obsids_before2 = pd.read_csv('obsid_lists/obsids_b-10_220401-.csv', header=0, dtype=str, sep=',', usecols=[1])\n",
    "obsids_before = pd.concat([obsids_before1, obsids_before2], ignore_index=True)\n",
    "print(f'before total: {len(obsids_before)}')\n",
    "\n",
    "filtered_post = filterd[filterd['ObsId'].isin(obsids_after['Obs ID'])]\n",
    "filtered_pre = filterd[filterd['ObsId'].isin(obsids_before['Obs ID'])]\n",
    "filtered_post.to_csv('output/filtered_w20_new.csv', index=False)\n",
    "filtered_pre.to_csv('output/filtered_w20_old.csv', index=False)\n",
    "\n",
    "print(f'after detec: {len(filtered_post)}')\n",
    "print(f'before detec: {len(filtered_pre)}')\n",
    "\n",
    "filtered_post_all_no = filtered_post[\n",
    "    (filtered_post['gaia_match'] == 'no') &\n",
    "    (filtered_post['simbad_match'] == 'no') &\n",
    "    (filtered_post['ned_match'] == 'no') &\n",
    "    (filtered_post['archival_match'] == 'no') &\n",
    "    (filtered_post['chandra_match'] == 'no') &\n",
    "    (filtered_post['erosita_match'] == 'no')\n",
    "]\n",
    "\n",
    "filtered_pre_all_no = filtered_pre[\n",
    "    (filtered_pre['gaia_match'] == 'no') &\n",
    "    (filtered_pre['simbad_match'] == 'no') &\n",
    "    (filtered_pre['ned_match'] == 'no') &\n",
    "    (filtered_pre['archival_match'] == 'no') &\n",
    "    (filtered_pre['chandra_match'] == 'no') &\n",
    "    (filtered_pre['erosita_match'] == 'no')\n",
    "]\n",
    "\n",
    "print(f'after no match: {len(filtered_post_all_no)}')\n",
    "print(f'before no match: {len(filtered_pre_all_no)}')"
   ]
  }
 ],
 "metadata": {
  "kernelspec": {
   "display_name": "ciao-4.16-base",
   "language": "python",
   "name": "python3"
  },
  "language_info": {
   "codemirror_mode": {
    "name": "ipython",
    "version": 3
   },
   "file_extension": ".py",
   "mimetype": "text/x-python",
   "name": "python",
   "nbconvert_exporter": "python",
   "pygments_lexer": "ipython3",
   "version": "3.11.9"
  }
 },
 "nbformat": 4,
 "nbformat_minor": 2
}
