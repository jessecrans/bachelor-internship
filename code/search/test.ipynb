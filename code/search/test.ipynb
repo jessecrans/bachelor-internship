{
 "cells": [
  {
   "cell_type": "code",
   "execution_count": 1,
   "metadata": {},
   "outputs": [],
   "source": [
    "import pandas as pd\n",
    "from auxiliary.filter_functions import filter_chandra, filter_archival, filter_gaia, filter_ned, filter_simbad, filter_erosita, filter_vizier\n",
    "from astroquery.vizier import Vizier\n",
    "from astroquery.simbad import Simbad, SimbadClass"
   ]
  },
  {
   "cell_type": "code",
   "execution_count": 9,
   "metadata": {},
   "outputs": [
    {
     "name": "stdout",
     "output_type": "stream",
     "text": [
      "            MAIN_ID             RA            DEC    OTYPE    OTYPES\n",
      "0  UCAC4 105-012588  05 29 02.8601  -69 04 29.953  EmLine*  Em*|PN|*\n"
     ]
    },
    {
     "data": {
      "text/plain": [
       "True"
      ]
     },
     "execution_count": 9,
     "metadata": {},
     "output_type": "execute_result"
    }
   ],
   "source": [
    "detections = pd.read_csv('output/detections_w20.txt',\n",
    "                         header=0, sep=' ', dtype=str)\n",
    "\n",
    "detection = detections[detections['ObsId'] == '8490'].iloc[0]\n",
    "\n",
    "filter_simbad(detection, True)"
   ]
  },
  {
   "cell_type": "code",
   "execution_count": 26,
   "metadata": {},
   "outputs": [
    {
     "name": "stdout",
     "output_type": "stream",
     "text": [
      "after total: 1495\n",
      "before total: 8304\n",
      "after detec: 101\n",
      "before detec: 1721\n",
      "after no match: 30\n",
      "before no match: 332\n"
     ]
    }
   ],
   "source": [
    "filterd = pd.read_csv('output/filtered_w20.csv', header=0, dtype=str)\n",
    "obsids_after1 = pd.read_csv('obsid_lists/obsids_b+10_220401+.csv', header=0, dtype=str, sep=',', usecols=[1])\n",
    "obsids_after2 =  pd.read_csv('obsid_lists/obsids_b-10_220401+.csv', header=0, dtype=str, sep=',', usecols=[1])\n",
    "obsids_after = pd.concat([obsids_after1, obsids_after2], ignore_index=True)\n",
    "print(f'after total: {len(obsids_after)}')\n",
    "\n",
    "obsids_before1 = pd.read_csv('obsid_lists/obsids_b+10_220401-.csv', header=0, dtype=str, sep=',', usecols=[1])\t\n",
    "obsids_before2 = pd.read_csv('obsid_lists/obsids_b-10_220401-.csv', header=0, dtype=str, sep=',', usecols=[1])\n",
    "obsids_before = pd.concat([obsids_before1, obsids_before2], ignore_index=True)\n",
    "print(f'before total: {len(obsids_before)}')\n",
    "\n",
    "filtered_post = filterd[filterd['ObsId'].isin(obsids_after['Obs ID'])]\n",
    "filtered_pre = filterd[filterd['ObsId'].isin(obsids_before['Obs ID'])]\n",
    "filtered_post.to_csv('output/filtered_w20_new.csv', index=False)\n",
    "filtered_pre.to_csv('output/filtered_w20_old.csv', index=False)\n",
    "\n",
    "print(f'after detec: {len(filtered_post)}')\n",
    "print(f'before detec: {len(filtered_pre)}')\n",
    "\n",
    "filtered_post_all_no = filtered_post[\n",
    "    (filtered_post['gaia_match'] == 'no') &\n",
    "    (filtered_post['simbad_match'] == 'no') &\n",
    "    (filtered_post['ned_match'] == 'no') &\n",
    "    (filtered_post['archival_match'] == 'no') &\n",
    "    (filtered_post['chandra_match'] == 'no') &\n",
    "    (filtered_post['erosita_match'] == 'no')\n",
    "]\n",
    "\n",
    "filtered_pre_all_no = filtered_pre[\n",
    "    (filtered_pre['gaia_match'] == 'no') &\n",
    "    (filtered_pre['simbad_match'] == 'no') &\n",
    "    (filtered_pre['ned_match'] == 'no') &\n",
    "    (filtered_pre['archival_match'] == 'no') &\n",
    "    (filtered_pre['chandra_match'] == 'no') &\n",
    "    (filtered_pre['erosita_match'] == 'no')\n",
    "]\n",
    "\n",
    "print(f'after no match: {len(filtered_post_all_no)}')\n",
    "print(f'before no match: {len(filtered_pre_all_no)}')"
   ]
  }
 ],
 "metadata": {
  "kernelspec": {
   "display_name": "ciao-4.16-base",
   "language": "python",
   "name": "python3"
  },
  "language_info": {
   "codemirror_mode": {
    "name": "ipython",
    "version": 3
   },
   "file_extension": ".py",
   "mimetype": "text/x-python",
   "name": "python",
   "nbconvert_exporter": "python",
   "pygments_lexer": "ipython3",
   "version": "3.11.9"
  }
 },
 "nbformat": 4,
 "nbformat_minor": 2
}
