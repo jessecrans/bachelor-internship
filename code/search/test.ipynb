{
 "cells": [
  {
   "cell_type": "code",
   "execution_count": 1,
   "metadata": {},
   "outputs": [],
   "source": [
    "import pandas as pd\n",
    "from filter_functions import filter_chandra, filter_archival, filter_gaia, filter_ned, filter_simbad, filter_erosita"
   ]
  },
  {
   "cell_type": "code",
   "execution_count": 4,
   "metadata": {},
   "outputs": [
    {
     "name": "stdout",
     "output_type": "stream",
     "text": [
      "No.      Object Name          RA        DEC      Type Velocity Redshift Redshift Flag Magnitude and Filter Separation References Notes Photometry Points Positions Redshift Points Diameter Points Associations\n",
      "                           degrees    degrees          km / s                                                arcmin                                                                                            \n",
      "--- --------------------- ---------- ---------- ----- -------- -------- ------------- -------------------- ---------- ---------- ----- ----------------- --------- --------------- --------------- ------------\n",
      "  1 2CXO J122531.5+130357  186.38146   13.06617 XrayS       --       --                                         0.018          4     0                20         4               0               5            0\n"
     ]
    },
    {
     "data": {
      "text/plain": [
       "True"
      ]
     },
     "execution_count": 4,
     "metadata": {},
     "output_type": "execute_result"
    }
   ],
   "source": [
    "detections = pd.read_csv('detections_w20.txt', header=0, sep=' ', dtype=str)\n",
    "\n",
    "detection = detections[detections['ObsId'] == '803'].iloc[0]\n",
    "\n",
    "filter_ned(detection, True) "
   ]
  }
 ],
 "metadata": {
  "kernelspec": {
   "display_name": "ciao-4.16-base",
   "language": "python",
   "name": "python3"
  },
  "language_info": {
   "name": "python",
   "version": "3.11.9"
  }
 },
 "nbformat": 4,
 "nbformat_minor": 2
}
