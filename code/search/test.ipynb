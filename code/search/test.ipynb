{
 "cells": [
  {
   "cell_type": "code",
   "execution_count": 1,
   "metadata": {},
   "outputs": [],
   "source": [
    "import pandas as pd\n",
    "from auxiliary.filter_functions import *\n",
    "from auxiliary.search_algorithm import *\n",
    "from results import *\n",
    "from testing import *\n",
    "from astroquery.vizier import Vizier\n",
    "from astroquery.simbad import Simbad, SimbadClass\n",
    "import os\n",
    "import glob\n",
    "from astropy.table import Table\n",
    "import numpy as np\n",
    "from astropy.io import fits\n",
    "import time\n",
    "import matplotlib.pyplot as plt\n",
    "from astropy.stats import poisson_conf_interval\n",
    "import scipy\n",
    "# 2372400"
   ]
  },
  {
   "cell_type": "code",
   "execution_count": null,
   "metadata": {},
   "outputs": [],
   "source": [
    "# match rates paper II\n",
    "match_rates_paper = [\n",
    "    53 / 151,\n",
    "    83 / 151,\n",
    "    75 / 151,\n",
    "]\n",
    "\n",
    "print(\n",
    "    'Match Rates (Paper II):',\n",
    "    f'Archival: {match_rates_paper[0]:.2f}',\n",
    "    f'Gaia: {match_rates_paper[1]:.2f}',\n",
    "    f'NEDSIMVIZ: {match_rates_paper[2]:.2f}',\n",
    "    sep='\\n'\n",
    ")"
   ]
  },
  {
   "cell_type": "code",
   "execution_count": null,
   "metadata": {},
   "outputs": [],
   "source": [
    "# criteria table\n",
    "date_range = [\n",
    "    '2015-01-01',\n",
    "    '2022-04-01'\n",
    "]\n",
    "\n",
    "criteria_table = get_criteria_table(from_date=date_range[0], to_date=date_range[1])\n",
    "\n",
    "criteria_table"
   ]
  },
  {
   "cell_type": "code",
   "execution_count": null,
   "metadata": {},
   "outputs": [],
   "source": [
    "# candidate numbers\n",
    "candidate_numbers = get_candidate_numbers(\n",
    "    from_date=date_range[0], to_date=date_range[1])\n",
    "\n",
    "candidate_numbers"
   ]
  },
  {
   "cell_type": "code",
   "execution_count": null,
   "metadata": {},
   "outputs": [],
   "source": [
    "# criteria table for all seperate filter functions\n",
    "criteria_seperate = [\n",
    "    ('archival', ['archival_match']),\n",
    "    ('chandra', ['chandra_match']),\n",
    "    ('erosita', ['erosita_match']),\n",
    "    ('gaia', ['gaia_match']),\n",
    "    ('ned', ['ned_match']),\n",
    "    ('simbad', ['simbad_match']),\n",
    "    ('vizier', ['vizier_match']),\n",
    "    # ('Xray_binaries', 'Xray_binaries_match'),\n",
    "]\n",
    "\n",
    "criteria_table_seperate = get_criteria_table(from_date='2015-01-01', to_date='2022-04-01', criteria=criteria_seperate)\n",
    "criteria_table_seperate"
   ]
  },
  {
   "cell_type": "code",
   "execution_count": null,
   "metadata": {},
   "outputs": [],
   "source": [
    "# generate and save random light curves\n",
    "random_detections, random_light_curves = get_random_light_curves(100, from_date='', to_date='')\n",
    "plot_random_light_curves(random_detections, random_light_curves)"
   ]
  },
  {
   "cell_type": "code",
   "execution_count": null,
   "metadata": {},
   "outputs": [],
   "source": [
    "# test filter functions\n",
    "detections = pd.read_csv('output/detections_w20.txt',\n",
    "                         header=0, sep=' ', dtype=str)\n",
    "\n",
    "detections = detections[detections['ObsId'] == '8490'][0:1]\n",
    "for index, detection in detections.iterrows():\n",
    "    print(index, filter_Xray_binaries(detection, True))"
   ]
  },
  {
   "cell_type": "code",
   "execution_count": 2,
   "metadata": {},
   "outputs": [
    {
     "name": "stdout",
     "output_type": "stream",
     "text": [
      "4546.346153845978 4198.423076923054\n"
     ]
    }
   ],
   "source": [
    "# test search algorithm\n",
    "detections = pd.read_csv('output/detections_w20.txt',\n",
    "                         header=0, sep=' ', dtype=str)\n",
    "\n",
    "test_search_algorithm(detections.loc[0])"
   ]
  }
 ],
 "metadata": {
  "kernelspec": {
   "display_name": "ciao-4.16-base",
   "language": "python",
   "name": "python3"
  },
  "language_info": {
   "codemirror_mode": {
    "name": "ipython",
    "version": 3
   },
   "file_extension": ".py",
   "mimetype": "text/x-python",
   "name": "python",
   "nbconvert_exporter": "python",
   "pygments_lexer": "ipython3",
   "version": "3.1.undefined"
  }
 },
 "nbformat": 4,
 "nbformat_minor": 2
}
