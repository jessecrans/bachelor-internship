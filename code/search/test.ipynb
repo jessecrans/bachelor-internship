{
 "cells": [
  {
   "cell_type": "code",
   "execution_count": 1,
   "metadata": {},
   "outputs": [],
   "source": [
    "import pandas as pd\n",
    "from filter_functions import filter_chandra, filter_archival, filter_gaia, filter_ned, filter_simbad, filter_erosita\n"
   ]
  },
  {
   "cell_type": "code",
   "execution_count": 3,
   "metadata": {},
   "outputs": [
    {
     "name": "stdout",
     "output_type": "stream",
     "text": [
      "No.         Object Name             RA        DEC      Type  Velocity   Redshift  Redshift Flag Magnitude and Filter Separation References Notes Photometry Points Positions Redshift Points Diameter Points Associations\n",
      "                                 degrees    degrees           km / s                                                   arcmin                                                                                            \n",
      "--- --------------------------- ---------- ---------- ----- ---------- ---------- ------------- -------------------- ---------- ---------- ----- ----------------- --------- --------------- --------------- ------------\n",
      "  1 CANDELS J033238.77-275133.7   53.16157  -27.85938     G   668537.0       2.23           PUN                           0.008          8     0                22        10               5               0            0\n",
      "  2     CXOGSG J033238.8-275134   53.16167  -27.85944 XrayS         --         --                                         0.003          1     0                 1         1               0               0            0\n",
      "  3 CANDELS J033238.84-275133.9   53.16183  -27.85943     G    92936.0       0.31           PUN                           0.011          4     0                 0         3               1               0            0\n",
      "  4             [XWB2012] 13580   53.16186  -27.85943   IrS   918864.0      3.065           PUN                           0.012          1     0                 0         1               2               0            0\n"
     ]
    },
    {
     "data": {
      "text/plain": [
       "True"
      ]
     },
     "execution_count": 3,
     "metadata": {},
     "output_type": "execute_result"
    }
   ],
   "source": [
    "detections = pd.read_csv('detections_w20.txt', header=0, sep=' ', dtype=str)\n",
    "\n",
    "detection = detections[detections['ObsId'] == '16454'].iloc[0]\n",
    "\n",
    "filter_ned(detection, True) "
   ]
  },
  {
   "cell_type": "code",
   "execution_count": null,
   "metadata": {},
   "outputs": [],
   "source": []
  }
 ],
 "metadata": {
  "kernelspec": {
   "display_name": "ciao-4.16-base",
   "language": "python",
   "name": "python3"
  },
  "language_info": {
   "codemirror_mode": {
    "name": "ipython",
    "version": 3
   },
   "file_extension": ".py",
   "mimetype": "text/x-python",
   "name": "python",
   "nbconvert_exporter": "python",
   "pygments_lexer": "ipython3",
   "version": "3.11.9"
  }
 },
 "nbformat": 4,
 "nbformat_minor": 2
}
