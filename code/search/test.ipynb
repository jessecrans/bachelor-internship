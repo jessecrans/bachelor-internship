{
 "cells": [
  {
   "cell_type": "code",
   "execution_count": 1,
   "metadata": {},
   "outputs": [],
   "source": [
    "import pandas as pd\n",
    "from auxiliary.filter_functions import filter_chandra, filter_archival, filter_gaia, filter_ned, filter_simbad, filter_erosita, filter_vizier, filter_Xray_binaries\n",
    "from auxiliary.search_algorithm import get_wcs_event, off_axis, get_chandra_eef, get_counts_from_event\n",
    "from results import get_candidate_numbers, get_criteria_table\n",
    "from astroquery.vizier import Vizier\n",
    "from astroquery.simbad import Simbad, SimbadClass\n",
    "import os\n",
    "import glob\n",
    "from astropy.table import Table\n",
    "import numpy as np\n",
    "from astropy.io import fits\n",
    "import time\n",
    "import matplotlib.pyplot as plt\n",
    "from astropy.stats import poisson_conf_interval\n",
    "import scipy\n",
    "# 2372400"
   ]
  },
  {
   "cell_type": "code",
   "execution_count": 6,
   "metadata": {},
   "outputs": [
    {
     "data": {
      "text/html": [
       "<div>\n",
       "<style scoped>\n",
       "    .dataframe tbody tr th:only-of-type {\n",
       "        vertical-align: middle;\n",
       "    }\n",
       "\n",
       "    .dataframe tbody tr th {\n",
       "        vertical-align: top;\n",
       "    }\n",
       "\n",
       "    .dataframe thead th {\n",
       "        text-align: right;\n",
       "    }\n",
       "</style>\n",
       "<table border=\"1\" class=\"dataframe\">\n",
       "  <thead>\n",
       "    <tr style=\"text-align: right;\">\n",
       "      <th></th>\n",
       "      <th>Matched</th>\n",
       "      <th>Unique Matched</th>\n",
       "      <th>Remaining</th>\n",
       "    </tr>\n",
       "  </thead>\n",
       "  <tbody>\n",
       "    <tr>\n",
       "      <th>Archival X-ray date</th>\n",
       "      <td>305</td>\n",
       "      <td>79</td>\n",
       "      <td>161</td>\n",
       "    </tr>\n",
       "    <tr>\n",
       "      <th>Cross-match with stars/Gaia</th>\n",
       "      <td>235</td>\n",
       "      <td>38</td>\n",
       "      <td>79</td>\n",
       "    </tr>\n",
       "    <tr>\n",
       "      <th>NED + SIMBAD + VizieR</th>\n",
       "      <td>218</td>\n",
       "      <td>12</td>\n",
       "      <td>57</td>\n",
       "    </tr>\n",
       "  </tbody>\n",
       "</table>\n",
       "</div>"
      ],
      "text/plain": [
       "                            Matched Unique Matched Remaining\n",
       "Archival X-ray date             305             79       161\n",
       "Cross-match with stars/Gaia     235             38        79\n",
       "NED + SIMBAD + VizieR           218             12        57"
      ]
     },
     "execution_count": 6,
     "metadata": {},
     "output_type": "execute_result"
    }
   ],
   "source": [
    "get_criteria_table(from_date='2015-01-01', to_date='2022-04-01')"
   ]
  },
  {
   "cell_type": "code",
   "execution_count": 5,
   "metadata": {},
   "outputs": [
    {
     "data": {
      "text/html": [
       "<div>\n",
       "<style scoped>\n",
       "    .dataframe tbody tr th:only-of-type {\n",
       "        vertical-align: middle;\n",
       "    }\n",
       "\n",
       "    .dataframe tbody tr th {\n",
       "        vertical-align: top;\n",
       "    }\n",
       "\n",
       "    .dataframe thead th {\n",
       "        text-align: right;\n",
       "    }\n",
       "</style>\n",
       "<table border=\"1\" class=\"dataframe\">\n",
       "  <thead>\n",
       "    <tr style=\"text-align: right;\">\n",
       "      <th></th>\n",
       "      <th>Total</th>\n",
       "      <th>Before</th>\n",
       "      <th>In</th>\n",
       "      <th>After</th>\n",
       "    </tr>\n",
       "  </thead>\n",
       "  <tbody>\n",
       "    <tr>\n",
       "      <th>Observations</th>\n",
       "      <td>9799</td>\n",
       "      <td>8303</td>\n",
       "      <td>3311</td>\n",
       "      <td>4807</td>\n",
       "    </tr>\n",
       "    <tr>\n",
       "      <th>Detections</th>\n",
       "      <td>2802</td>\n",
       "      <td>2701</td>\n",
       "      <td>466</td>\n",
       "      <td>567</td>\n",
       "    </tr>\n",
       "    <tr>\n",
       "      <th>Candidates no match</th>\n",
       "      <td>429</td>\n",
       "      <td>412</td>\n",
       "      <td>57</td>\n",
       "      <td>74</td>\n",
       "    </tr>\n",
       "  </tbody>\n",
       "</table>\n",
       "</div>"
      ],
      "text/plain": [
       "                    Total Before    In After\n",
       "Observations         9799   8303  3311  4807\n",
       "Detections           2802   2701   466   567\n",
       "Candidates no match   429    412    57    74"
      ]
     },
     "execution_count": 5,
     "metadata": {},
     "output_type": "execute_result"
    }
   ],
   "source": [
    "get_candidate_numbers(from_date='2015-01-01', to_date='2022-04-01')"
   ]
  },
  {
   "cell_type": "code",
   "execution_count": 4,
   "metadata": {},
   "outputs": [
    {
     "name": "stdout",
     "output_type": "stream",
     "text": [
      "  ID           Name          RAJ2000   DEJ2000    Flux    b_Flux   B_Flux  Flagp Flagu Flagn    c       LX      b_LX     B_LX  \n",
      "                               deg       deg    mW / m2  mW / m2  mW / m2                            1e-07 W  1e-07 W  1e-07 W \n",
      "----- --------------------- --------- --------- -------- -------- -------- ----- ----- ----- ------- -------- -------- --------\n",
      "46957 2CXO J132458.3-430226 201.24330 -43.04060        0        0 9.78e-17     0     1     0 0.50004        0        0 1.45e+35\n",
      "0 True\n"
     ]
    }
   ],
   "source": [
    "detections = pd.read_csv('output/detections_w20.txt',\n",
    "                         header=0, sep=' ', dtype=str)\n",
    "\n",
    "detections = detections[detections['ObsId'] == '8490'][0:1]\n",
    "for index, detection in detections.iterrows():\n",
    "    print(index, filter_Xray_binaries(detection, True))"
   ]
  }
 ],
 "metadata": {
  "kernelspec": {
   "display_name": "ciao-4.16-base",
   "language": "python",
   "name": "python3"
  },
  "language_info": {
   "codemirror_mode": {
    "name": "ipython",
    "version": 3
   },
   "file_extension": ".py",
   "mimetype": "text/x-python",
   "name": "python",
   "nbconvert_exporter": "python",
   "pygments_lexer": "ipython3",
   "version": "3.11.9"
  }
 },
 "nbformat": 4,
 "nbformat_minor": 2
}
