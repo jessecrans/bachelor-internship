{
 "cells": [
  {
   "cell_type": "code",
   "execution_count": 5,
   "metadata": {},
   "outputs": [],
   "source": [
    "import pandas as pd\n",
    "from auxiliary.filter_functions import filter_chandra, filter_archival, filter_gaia, filter_ned, filter_simbad, filter_erosita, filter_vizier, filter_Xray_binaries\n",
    "from auxiliary.search_algorithm import get_wcs_event, off_axis, get_chandra_eef, get_counts_from_event\n",
    "from results import get_candidate_numbers\n",
    "from astroquery.vizier import Vizier\n",
    "from astroquery.simbad import Simbad, SimbadClass\n",
    "import os\n",
    "import glob\n",
    "from astropy.table import Table\n",
    "import numpy as np\n",
    "from astropy.io import fits\n",
    "import time\n",
    "import matplotlib.pyplot as plt\n",
    "from astropy.stats import poisson_conf_interval\n",
    "import scipy\n",
    "# 2372400"
   ]
  },
  {
   "cell_type": "code",
   "execution_count": 6,
   "metadata": {},
   "outputs": [
    {
     "name": "stdout",
     "output_type": "stream",
     "text": [
      "after total: 1495\n",
      "before total: 8304\n",
      "after detec: 101\n",
      "before detec: 2701\n",
      "after no match: 22\n",
      "before no match: 502\n"
     ]
    }
   ],
   "source": [
    "get_candidate_numbers()"
   ]
  },
  {
   "cell_type": "code",
   "execution_count": 3,
   "metadata": {},
   "outputs": [
    {
     "name": "stdout",
     "output_type": "stream",
     "text": [
      "  ID           Name          RAJ2000   DEJ2000    Flux    b_Flux   B_Flux  Flagp Flagu Flagn    c       LX      b_LX     B_LX  \n",
      "                               deg       deg    mW / m2  mW / m2  mW / m2                            1e-07 W  1e-07 W  1e-07 W \n",
      "----- --------------------- --------- --------- -------- -------- -------- ----- ----- ----- ------- -------- -------- --------\n",
      "46957 2CXO J132458.3-430226 201.24330 -43.04060        0        0 9.78e-17     0     1     0 0.50004        0        0 1.45e+35\n",
      "0 True\n"
     ]
    }
   ],
   "source": [
    "detections = pd.read_csv('output/detections_w20.txt',\n",
    "                         header=0, sep=' ', dtype=str)\n",
    "\n",
    "detections = detections[detections['ObsId'] == '8490'][0:1]\n",
    "for index, detection in detections.iterrows():\n",
    "    print(index, filter_Xray_binaries(detection, True))"
   ]
  }
 ],
 "metadata": {
  "kernelspec": {
   "display_name": "ciao-4.16-base",
   "language": "python",
   "name": "python3"
  },
  "language_info": {
   "codemirror_mode": {
    "name": "ipython",
    "version": 3
   },
   "file_extension": ".py",
   "mimetype": "text/x-python",
   "name": "python",
   "nbconvert_exporter": "python",
   "pygments_lexer": "ipython3",
   "version": "3.11.9"
  }
 },
 "nbformat": 4,
 "nbformat_minor": 2
}
